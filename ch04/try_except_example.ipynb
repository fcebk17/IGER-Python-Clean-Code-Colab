{
 "cells": [
  {
   "cell_type": "code",
   "execution_count": 1,
   "metadata": {},
   "outputs": [
    {
     "name": "stdout",
     "output_type": "stream",
     "text": [
      "分母不可為0\n"
     ]
    }
   ],
   "source": [
    "try:\n",
    "    a = int(input(\"請輸入分母: \"))\n",
    "    print(10 / a)\n",
    "except ValueError:\n",
    "    print(\"請輸入數字\")\n",
    "except ZeroDivisionError:\n",
    "    print(\"分母不可為0\")\n",
    "except:\n",
    "    print(\"這邊發生了一些錯誤\")"
   ]
  }
 ],
 "metadata": {
  "kernelspec": {
   "display_name": "Python 3",
   "language": "python",
   "name": "python3"
  },
  "language_info": {
   "codemirror_mode": {
    "name": "ipython",
    "version": 3
   },
   "file_extension": ".py",
   "mimetype": "text/x-python",
   "name": "python",
   "nbconvert_exporter": "python",
   "pygments_lexer": "ipython3",
   "version": "3.11.5"
  }
 },
 "nbformat": 4,
 "nbformat_minor": 2
}
