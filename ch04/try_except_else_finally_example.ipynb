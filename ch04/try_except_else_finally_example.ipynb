{
 "cells": [
  {
   "cell_type": "code",
   "execution_count": 3,
   "metadata": {},
   "outputs": [
    {
     "name": "stdout",
     "output_type": "stream",
     "text": [
      "Oops! 發生了一些錯誤\n",
      "不管有沒有發生錯誤，都會執行這裡\n"
     ]
    }
   ],
   "source": [
    "try:\n",
    "    a = int(input(\"請輸入任意數字: \"))\n",
    "    print(a + 1)\n",
    "except:\n",
    "    print(\"Oops! 發生了一些錯誤\")\n",
    "else:\n",
    "    print(\"沒有發生錯誤\")\n",
    "finally:\n",
    "    print(\"不管有沒有發生錯誤，都會執行這裡\")"
   ]
  }
 ],
 "metadata": {
  "kernelspec": {
   "display_name": "Python 3",
   "language": "python",
   "name": "python3"
  },
  "language_info": {
   "codemirror_mode": {
    "name": "ipython",
    "version": 3
   },
   "file_extension": ".py",
   "mimetype": "text/x-python",
   "name": "python",
   "nbconvert_exporter": "python",
   "pygments_lexer": "ipython3",
   "version": "3.11.5"
  }
 },
 "nbformat": 4,
 "nbformat_minor": 2
}
