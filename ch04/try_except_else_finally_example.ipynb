{
 "cells": [
  {
   "cell_type": "code",
   "execution_count": null,
   "metadata": {},
   "outputs": [],
   "source": [
    "try:\n",
    "    a = int(input(\"請輸入任意數字: \"))\n",
    "    print(a + 1)\n",
    "except:\n",
    "    print(\"Oops! 發生了一些錯誤\")\n",
    "else:\n",
    "    print(\"沒有發生錯誤\")\n",
    "finally:\n",
    "    print(\"不管有沒有發生錯誤，都會執行這裡\")"
   ]
  }
 ],
 "metadata": {
  "language_info": {
   "name": "python"
  }
 },
 "nbformat": 4,
 "nbformat_minor": 2
}
