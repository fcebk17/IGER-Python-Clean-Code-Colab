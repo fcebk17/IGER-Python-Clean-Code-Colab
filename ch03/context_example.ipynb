{
 "cells": [
  {
   "cell_type": "code",
   "execution_count": null,
   "metadata": {},
   "outputs": [],
   "source": [
    "# Bad\n",
    "myfile = open('data.txt')\n",
    "\n",
    "try:\n",
    "    for line in myfile:\n",
    "        print(line)\n",
    "\n",
    "finally:\n",
    "    myfile.close()"
   ]
  },
  {
   "cell_type": "code",
   "execution_count": null,
   "metadata": {},
   "outputs": [],
   "source": [
    "# Good\n",
    "with open('data.txt') as myfile:\n",
    "    for line in myfile:\n",
    "        print(line)"
   ]
  }
 ],
 "metadata": {
  "language_info": {
   "name": "python"
  }
 },
 "nbformat": 4,
 "nbformat_minor": 2
}
