{
 "cells": [
  {
   "cell_type": "code",
   "execution_count": null,
   "metadata": {},
   "outputs": [],
   "source": [
    "#Bad\n",
    "if attr == True:\n",
    "    print('True!')\n",
    "\n",
    "if attr == None:\n",
    "    print('attr is None!')"
   ]
  },
  {
   "cell_type": "code",
   "execution_count": null,
   "metadata": {},
   "outputs": [],
   "source": [
    "#Good\n",
    "if attr:\n",
    "    print('attr is truthy!')\n",
    "\n",
    "if not attr:\n",
    "    print('attr is falsy!')\n",
    "\n",
    "if attr is None:\n",
    "    print('attr is None!')"
   ]
  }
 ],
 "metadata": {
  "language_info": {
   "name": "python"
  }
 },
 "nbformat": 4,
 "nbformat_minor": 2
}
