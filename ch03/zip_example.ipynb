{
 "cells": [
  {
   "cell_type": "code",
   "execution_count": 1,
   "metadata": {},
   "outputs": [
    {
     "name": "stdout",
     "output_type": "stream",
     "text": [
      "John 17\n",
      "Tom 23\n",
      "Tina 20\n"
     ]
    }
   ],
   "source": [
    "# Bad\n",
    "names = ['John', 'Tom', 'Tina']\n",
    "ages = [17, 23, 20]\n",
    "\n",
    "for i in range(len(names)):\n",
    "    print(names[i], ages[i])"
   ]
  },
  {
   "cell_type": "code",
   "execution_count": 2,
   "metadata": {},
   "outputs": [
    {
     "name": "stdout",
     "output_type": "stream",
     "text": [
      "John 17\n",
      "Tom 23\n",
      "Tina 20\n"
     ]
    }
   ],
   "source": [
    "# Good\n",
    "names = ['John', 'Tom', 'Tina']\n",
    "ages = [17, 23, 20]\n",
    "\n",
    "for x, y in zip(names, ages):\n",
    "    print(x, y)"
   ]
  }
 ],
 "metadata": {
  "kernelspec": {
   "display_name": "Python 3",
   "language": "python",
   "name": "python3"
  },
  "language_info": {
   "codemirror_mode": {
    "name": "ipython",
    "version": 3
   },
   "file_extension": ".py",
   "mimetype": "text/x-python",
   "name": "python",
   "nbconvert_exporter": "python",
   "pygments_lexer": "ipython3",
   "version": "3.11.5"
  }
 },
 "nbformat": 4,
 "nbformat_minor": 2
}
