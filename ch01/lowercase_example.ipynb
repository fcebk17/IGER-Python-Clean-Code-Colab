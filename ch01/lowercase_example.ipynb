{
 "cells": [
  {
   "cell_type": "code",
   "execution_count": null,
   "metadata": {},
   "outputs": [],
   "source": [
    "# module\n",
    "from shopping_module import ShoppingCart\n",
    "\n",
    "# variable\n",
    "my_variable = 123\n",
    "\n",
    "# function\n",
    "def my_func():\n",
    "    print(\"Hello, world!\")"
   ]
  }
 ],
 "metadata": {
  "language_info": {
   "name": "python"
  }
 },
 "nbformat": 4,
 "nbformat_minor": 2
}
