{
 "cells": [
  {
   "cell_type": "code",
   "execution_count": null,
   "metadata": {},
   "outputs": [],
   "source": [
    "# Correct:\n",
    "import os\n",
    "import sys\n",
    "\n",
    "# Wrong:\n",
    "import sys, os\n",
    "\n",
    "# Correct:\n",
    "from subprocess import Popen, PIPE"
   ]
  }
 ],
 "metadata": {
  "language_info": {
   "name": "python"
  }
 },
 "nbformat": 4,
 "nbformat_minor": 2
}
