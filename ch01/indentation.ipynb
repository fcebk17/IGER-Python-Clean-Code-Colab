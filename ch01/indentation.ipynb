{
  "nbformat": 4,
  "nbformat_minor": 0,
  "metadata": {
    "colab": {
      "provenance": [],
      "authorship_tag": "ABX9TyP6Car+DCxXEnyAKkvn6fTx",
      "include_colab_link": true
    },
    "kernelspec": {
      "name": "python3",
      "display_name": "Python 3"
    },
    "language_info": {
      "name": "python"
    }
  },
  "cells": [
    {
      "cell_type": "markdown",
      "metadata": {
        "id": "view-in-github",
        "colab_type": "text"
      },
      "source": [
        "<a href=\"https://colab.research.google.com/github/fcebk17/IGER-Python-Clean-Code-Colab/blob/main/ch01/indentation.ipynb\" target=\"_parent\"><img src=\"https://colab.research.google.com/assets/colab-badge.svg\" alt=\"Open In Colab\"/></a>"
      ]
    },
    {
      "cell_type": "code",
      "execution_count": null,
      "metadata": {
        "id": "SQs34xDMB1Vi"
      },
      "outputs": [],
      "source": [
        "def indentation_example():\n",
        "    print(\"This is a correct indentation\")\n",
        "   print(\"This is an incorrect indentation\")"
      ]
    }
  ]
}