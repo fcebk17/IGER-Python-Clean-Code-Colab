{
 "cells": [
  {
   "cell_type": "code",
   "execution_count": null,
   "metadata": {},
   "outputs": [],
   "source": [
    "class Coco():\n",
    "    def prepare(self):\n",
    "        self.add_powder()\n",
    "        self.brew()\n",
    "        self.pour_into_cup()\n",
    "\n",
    "    def add_coco_powder(self):\n",
    "        print('add coco powder')\n",
    "\n",
    "    def brew(self):\n",
    "        print('steeping')\n",
    "\n",
    "    def pour_coco_into_cup(self):\n",
    "        print('pour drink into cup')\n",
    "\n",
    "\n",
    "class Coffee():\n",
    "    def prepare(self):\n",
    "        self.add_powder()\n",
    "        self.brew()\n",
    "        self.pour_into_cup()\n",
    "        self.add_condiments()\n",
    "\n",
    "    def add_coffee_powder(self):\n",
    "        print('add coffee powder')\n",
    "\n",
    "    def brew(self):\n",
    "        print('steeping')\n",
    "\n",
    "    def pour_coffee_into_cup(self):\n",
    "        print('pour drink into cup')\n",
    "\n",
    "    def add_condiments(self):\n",
    "        print('add sugar')"
   ]
  }
 ],
 "metadata": {
  "language_info": {
   "name": "python"
  }
 },
 "nbformat": 4,
 "nbformat_minor": 2
}
