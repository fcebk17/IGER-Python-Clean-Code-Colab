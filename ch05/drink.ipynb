{
 "cells": [
  {
   "cell_type": "code",
   "execution_count": 1,
   "metadata": {},
   "outputs": [],
   "source": [
    "from abc import ABC, abstractmethod\n",
    "\n",
    "class BaseDrink(ABC):\n",
    "    def prepare(self):\n",
    "        self.add_powder()\n",
    "        self.brew()\n",
    "        self.pour_into_cup()\n",
    "        self.add_condiments()\n",
    "\n",
    "    @abstractmethod\n",
    "    def add_powder(self):\n",
    "        pass\n",
    "\n",
    "    def brew(self):\n",
    "        print('steeping')\n",
    "\n",
    "    def pour_into_cup(self):\n",
    "        print('pour drink into cup')\n",
    "\n",
    "    @abstractmethod\n",
    "    def add_condiments(self):\n",
    "        pass\n",
    "\n",
    "class Coco(BaseDrink):\n",
    "    def add_powder(self):\n",
    "        print('add coco powder')\n",
    "\n",
    "    def add_condiments(self):\n",
    "        print('add nothing')\n",
    "\n",
    "\n",
    "class Coffee(BaseDrink):\n",
    "    def add_powder(self):\n",
    "        print('add coffee powder')\n",
    "\n",
    "    def add_condiments(self):\n",
    "        print('add sugar')"
   ]
  },
  {
   "cell_type": "code",
   "execution_count": 3,
   "metadata": {},
   "outputs": [
    {
     "name": "stdout",
     "output_type": "stream",
     "text": [
      "Making a Coco drink:\n",
      "add coco powder\n",
      "steeping\n",
      "pour drink into cup\n",
      "add nothing\n",
      "Drink is ready!\n"
     ]
    }
   ],
   "source": [
    "def make_drink(drink_type):\n",
    "    if drink_type == \"Coco\":\n",
    "        drink = Coco()\n",
    "\n",
    "    elif drink_type == \"Coffee\":\n",
    "        drink = Coffee()\n",
    "        \n",
    "    else:\n",
    "        raise ValueError(\"Unsupported drink type\")\n",
    "\n",
    "    print(f\"Making a {drink_type} drink:\")\n",
    "    drink.prepare()\n",
    "    print(\"Drink is ready!\")\n",
    "\n",
    "if __name__ == \"__main__\":\n",
    "    drink_type = input(\"Enter the type of drink (Coco or Coffee): \")\n",
    "    make_drink(drink_type)"
   ]
  }
 ],
 "metadata": {
  "kernelspec": {
   "display_name": "Python 3",
   "language": "python",
   "name": "python3"
  },
  "language_info": {
   "codemirror_mode": {
    "name": "ipython",
    "version": 3
   },
   "file_extension": ".py",
   "mimetype": "text/x-python",
   "name": "python",
   "nbconvert_exporter": "python",
   "pygments_lexer": "ipython3",
   "version": "3.11.5"
  }
 },
 "nbformat": 4,
 "nbformat_minor": 2
}
