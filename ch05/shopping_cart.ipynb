{
 "cells": [
  {
   "cell_type": "code",
   "execution_count": null,
   "metadata": {},
   "outputs": [],
   "source": [
    "class ShoppingCart:\n",
    "    def __init__(self):\n",
    "        self.cart = []\n",
    "    \n",
    "    def add_item(self, item):\n",
    "        self.cart.append(item)\n",
    "\n",
    "    def remove_item(self, item):\n",
    "        self.cart.remove(item)"
   ]
  }
 ],
 "metadata": {
  "language_info": {
   "name": "python"
  }
 },
 "nbformat": 4,
 "nbformat_minor": 2
}
